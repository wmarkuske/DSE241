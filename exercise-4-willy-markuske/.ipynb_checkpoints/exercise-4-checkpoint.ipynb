{
 "cells": [
  {
   "cell_type": "code",
   "execution_count": 1,
   "id": "9277fedc-a035-453f-9bdb-cbd0890c720e",
   "metadata": {},
   "outputs": [],
   "source": [
    "import networkx as nx\n",
    "import json"
   ]
  },
  {
   "cell_type": "code",
   "execution_count": 2,
   "id": "bbea9289-cf46-441b-b2c7-4f6caad2fda7",
   "metadata": {},
   "outputs": [],
   "source": [
    "G=nx.read_graphml('./data/sheep_ml.graphml')\n",
    "data = nx.readwrite.json_graph.node_link_data(G)\n",
    "\n",
    "for node in data['nodes']:\n",
    "    str=node['id']\n",
    "    node['id'] = [int(s) for s in str.split(\"n\") if s.isdigit()][0]"
   ]
  },
  {
   "cell_type": "code",
   "execution_count": 3,
   "id": "827a502c-07d2-4f36-8099-d3f498389b96",
   "metadata": {},
   "outputs": [],
   "source": [
    "dom = []\n",
    "for i in range(data['nodes'][0]['id'],data['nodes'][-1]['id']+1):\n",
    "    count = 0\n",
    "    for link in data['links']:\n",
    "        if int(link['source']) == i:\n",
    "            count = count+1\n",
    "        else:\n",
    "            continue\n",
    "    data['nodes'][i-1]['dominates'] = count"
   ]
  },
  {
   "cell_type": "code",
   "execution_count": 4,
   "id": "bb8f9995-2c53-43ff-a019-99d5aa9343f4",
   "metadata": {},
   "outputs": [],
   "source": [
    "with open('./data/sheep_ml.json', 'w') as f:\n",
    "    json.dump(data, f, indent=4)"
   ]
  }
 ],
 "metadata": {
  "kernelspec": {
   "display_name": "Python 3 (ipykernel)",
   "language": "python",
   "name": "python3"
  },
  "language_info": {
   "codemirror_mode": {
    "name": "ipython",
    "version": 3
   },
   "file_extension": ".py",
   "mimetype": "text/x-python",
   "name": "python",
   "nbconvert_exporter": "python",
   "pygments_lexer": "ipython3",
   "version": "3.9.6"
  }
 },
 "nbformat": 4,
 "nbformat_minor": 5
}
